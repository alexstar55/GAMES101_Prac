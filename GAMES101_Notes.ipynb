{
 "cells": [
  {
   "cell_type": "markdown",
   "metadata": {},
   "source": [
    "## Test C++ env"
   ]
  },
  {
   "cell_type": "code",
   "execution_count": 1,
   "metadata": {
    "scrolled": true
   },
   "outputs": [],
   "source": [
    "#include <iostream>\n",
    "#include <cmath>\n",
    "#pragma cling add_include_path(\"/usr/include/eigen3\")\n",
    "#include <Eigen/Core>\n",
    "#include <Eigen/Dense>\n",
    "\n",
    "using namespace Eigen;\n",
    "\n",
    "// #pragma cling add_library_path(\"/usr/include/eigen3/Eigen/Core\")\n",
    "// #pragma cling add_library_path(\"/usr/include/eigen3/Eigen/Dense\")\n",
    "// #pragma cling load(\"libfoo\")"
   ]
  },
  {
   "cell_type": "markdown",
   "metadata": {},
   "source": [
    "### 注：在Jupyter运行C++与include的方法  \n",
    "使用Xeus-Cling，安装参考[这个链接](https://www.learnopencv.com/xeus-cling-run-c-code-in-jupyter-notebook/)。这里注意，由于我们要使用[Eigen](https://eigen.tuxfamily.org/dox/group__TutorialMatrixArithmetic.html)这个库，通常C++代码要先编译再运行，如果编写CMakeLists.txt并make，一般代码中头文件要这样写\n",
    "```\n",
    "#include <eigen3/Eigen/Core>\n",
    "#include <eigen3/Eigen/Dense>\n",
    "```\n",
    "但在Jupyter里由于使用Xeus-Cling，所以要这样写，（参考[这个链接](https://github.com/jupyter-xeus/xeus-cling/issues/107#issuecomment-364410401)）  \n",
    "```\n",
    "#pragma cling add_include_path(\"/usr/include/eigen3\")\n",
    "```\n",
    "然后\n",
    "```\n",
    "#include <Eigen/Core>\n",
    "#include <Eigen/Dense>\n",
    "```"
   ]
  },
  {
   "cell_type": "markdown",
   "metadata": {},
   "source": [
    "### Eigen包，[基本矩阵操作](https://eigen.tuxfamily.org/dox/group__TutorialMatrixArithmetic.html)"
   ]
  },
  {
   "cell_type": "code",
   "execution_count": 2,
   "metadata": {},
   "outputs": [
    {
     "name": "stdout",
     "output_type": "stream",
     "text": [
      "Hello world!\n"
     ]
    }
   ],
   "source": [
    "std::cout << \"Hello world!\" << std::endl;"
   ]
  },
  {
   "cell_type": "code",
   "execution_count": 3,
   "metadata": {},
   "outputs": [
    {
     "name": "stdout",
     "output_type": "stream",
     "text": [
      "Example of cpp \n",
      "1\n",
      "0.5\n",
      "1.41421\n",
      "3.14159\n",
      "0.5\n"
     ]
    }
   ],
   "source": [
    "std::cout << \"Example of cpp \\n\";\n",
    "float a = 1.0, b = 2.0;\n",
    "std::cout << a << std::endl;\n",
    "std::cout << a/b << std::endl;\n",
    "std::cout << sqrt(b) << std::endl;\n",
    "std::cout << acos(-1) << std::endl;\n",
    "std::cout << sin(30.0/180.0*acos(-1)) << std::endl;"
   ]
  },
  {
   "cell_type": "markdown",
   "metadata": {},
   "source": [
    "#### Addition and subtraction"
   ]
  },
  {
   "cell_type": "code",
   "execution_count": 4,
   "metadata": {},
   "outputs": [
    {
     "name": "stdout",
     "output_type": "stream",
     "text": [
      "a1 + b1 =\n",
      "3 5\n",
      "4 8\n",
      "a1 - b1 =\n",
      "-1 -1\n",
      " 2  0\n",
      "Doing a1 += b1;\n"
     ]
    }
   ],
   "source": [
    "Matrix2d a1;\n",
    "a1 << 1, 2,\n",
    "   3, 4;\n",
    "MatrixXd b1(2,2);\n",
    "b1 << 2, 3,\n",
    "   1, 4;\n",
    "std::cout << \"a1 + b1 =\\n\" << a1 + b1 << std::endl;\n",
    "std::cout << \"a1 - b1 =\\n\" << a1 - b1 << std::endl;\n",
    "std::cout << \"Doing a1 += b1;\" << std::endl;"
   ]
  },
  {
   "cell_type": "code",
   "execution_count": 5,
   "metadata": {},
   "outputs": [
    {
     "name": "stdout",
     "output_type": "stream",
     "text": [
      "Now a1 =\n",
      "3 5\n",
      "4 8\n",
      "-v + w - v =\n",
      "-1\n",
      "-4\n",
      "-6\n"
     ]
    }
   ],
   "source": [
    "a1 += b1;\n",
    "std::cout << \"Now a1 =\\n\" << a1 << std::endl;\n",
    "Vector3d v(1,2,3);\n",
    "Vector3d w(1,0,0);\n",
    "std::cout << \"-v + w - v =\\n\" << -v + w - v << std::endl;"
   ]
  },
  {
   "cell_type": "markdown",
   "metadata": {},
   "source": [
    "#### Scalar multiplication and division  \n",
    "- binary operator \\* as in matrix*scalar  \n",
    "- binary operator \\* as in scalar\\*matrix\n",
    "- binary operator / as in matrix/scalar\n",
    "- compound operator \\*= as in matrix\\*=scalar\n",
    "- compound operator /= as in matrix/=scalar"
   ]
  },
  {
   "cell_type": "code",
   "execution_count": 6,
   "metadata": {},
   "outputs": [
    {
     "name": "stdout",
     "output_type": "stream",
     "text": [
      "a2 * 2.5 =\n",
      "2.5   5\n",
      "7.5  10\n",
      "0.1 * v2 =\n",
      "0.1\n",
      "0.2\n",
      "0.3\n",
      "Doing v2 *= 2;\n",
      "Now v2 =\n",
      "2\n",
      "4\n",
      "6\n"
     ]
    }
   ],
   "source": [
    "Matrix2d a2;\n",
    "a2 << 1, 2,\n",
    "   3, 4;\n",
    "Vector3d v2(1,2,3);\n",
    "std::cout << \"a2 * 2.5 =\\n\" << a2 * 2.5 << std::endl;\n",
    "std::cout << \"0.1 * v2 =\\n\" << 0.1 * v2 << std::endl;\n",
    "std::cout << \"Doing v2 *= 2;\" << std::endl;\n",
    "v2 *= 2;\n",
    "std::cout << \"Now v2 =\\n\" << v2 << std::endl;"
   ]
  },
  {
   "cell_type": "markdown",
   "metadata": {},
   "source": [
    "#### Transposition and conjugation"
   ]
  },
  {
   "cell_type": "code",
   "execution_count": 7,
   "metadata": {},
   "outputs": [
    {
     "name": "stdout",
     "output_type": "stream",
     "text": [
      "Here is the matrix a\n",
      "  (0.474181,0.220512)  (-0.150952,0.375862)\n",
      "(-0.428728,-0.401039)    (0.573758,0.55586)\n",
      "Here is the matrix a^T\n",
      "  (0.474181,0.220512) (-0.428728,-0.401039)\n",
      " (-0.150952,0.375862)    (0.573758,0.55586)\n",
      "Here is the conjugate of a\n",
      " (0.474181,-0.220512) (-0.150952,-0.375862)\n",
      " (-0.428728,0.401039)   (0.573758,-0.55586)\n",
      "Here is the matrix a^*\n",
      " (0.474181,-0.220512)  (-0.428728,0.401039)\n",
      "(-0.150952,-0.375862)   (0.573758,-0.55586)\n"
     ]
    }
   ],
   "source": [
    "MatrixXcf a3= MatrixXcf::Random(2,2);\n",
    "std::cout << \"Here is the matrix a\\n\" << a3<< std::endl;\n",
    "std::cout << \"Here is the matrix a^T\\n\" << a3.transpose() << std::endl;\n",
    "std::cout << \"Here is the conjugate of a\\n\" << a3.conjugate() << std::endl;\n",
    "std::cout << \"Here is the matrix a^*\\n\" << a3.adjoint() << std::endl;"
   ]
  },
  {
   "cell_type": "markdown",
   "metadata": {},
   "source": [
    "**注意，转置不可以这样：a = a.transpose()**，If you do a = a.transpose(), then Eigen starts writing the result into a before the evaluation of the transpose is finished. Therefore, the instruction a = a.transpose() does not replace a with its transpose."
   ]
  },
  {
   "cell_type": "markdown",
   "metadata": {},
   "source": [
    "#### Matrix-matrix and matrix-vector multiplication"
   ]
  },
  {
   "cell_type": "code",
   "execution_count": 8,
   "metadata": {},
   "outputs": [
    {
     "name": "stdout",
     "output_type": "stream",
     "text": [
      "Here is mat*mat:\n",
      " 7 10\n",
      "15 22\n",
      "Here is mat*u0:\n",
      "1\n",
      "1\n",
      "Here is u^T*mat:\n",
      "2 2\n",
      "Here is u^T*v:\n",
      "-2\n",
      "Here is u*v^T:\n",
      "-2 -0\n",
      " 2  0\n",
      "Let's multiply mat by itself\n",
      "Now mat is mat:\n",
      " 7 10\n",
      "15 22\n"
     ]
    }
   ],
   "source": [
    "Matrix2d mat;\n",
    "mat << 1, 2,\n",
    "     3, 4;\n",
    "Vector2d u0(-1,1), v0(2,0);\n",
    "std::cout << \"Here is mat*mat:\\n\" << mat*mat << std::endl;\n",
    "std::cout << \"Here is mat*u0:\\n\" << mat*u0 << std::endl;\n",
    "std::cout << \"Here is u^T*mat:\\n\" << u0.transpose()*mat << std::endl;\n",
    "std::cout << \"Here is u^T*v:\\n\" << u0.transpose()*v0 << std::endl;\n",
    "std::cout << \"Here is u*v^T:\\n\" << u0*v0.transpose() << std::endl;\n",
    "std::cout << \"Let's multiply mat by itself\" << std::endl;\n",
    "mat = mat*mat;\n",
    "std::cout << \"Now mat is mat:\\n\" << mat << std::endl;"
   ]
  },
  {
   "cell_type": "markdown",
   "metadata": {},
   "source": [
    "#### Dot product and cross product"
   ]
  },
  {
   "cell_type": "code",
   "execution_count": 9,
   "metadata": {},
   "outputs": [
    {
     "name": "stdout",
     "output_type": "stream",
     "text": [
      "Dot product: 8\n",
      "Dot product via a matrix product: 8\n",
      "Cross product:\n",
      " 1\n",
      "-2\n",
      " 1\n"
     ]
    }
   ],
   "source": [
    "Vector3d v3(1,2,3);\n",
    "Vector3d w3(0,1,2);\n",
    "\n",
    "std::cout << \"Dot product: \" << v3.dot(w3) << std::endl;\n",
    "double dp = v3.adjoint()*w3; // automatic conversion of the inner product to a scalar\n",
    "std::cout << \"Dot product via a matrix product: \" << dp << std::endl;\n",
    "std::cout << \"Cross product:\\n\" << v3.cross(w3) << std::endl;"
   ]
  },
  {
   "cell_type": "code",
   "execution_count": null,
   "metadata": {
    "collapsed": true
   },
   "outputs": [],
   "source": []
  }
 ],
 "metadata": {
  "kernelspec": {
   "display_name": "C++11 [conda env:cpp]",
   "language": "C++11",
   "name": "conda-env-cpp-xeus-cling-cpp11"
  },
  "language_info": {
   "codemirror_mode": "text/x-c++src",
   "file_extension": ".cpp",
   "mimetype": "text/x-c++src",
   "name": "c++",
   "version": "-std=c++11"
  },
  "toc": {
   "base_numbering": 1,
   "nav_menu": {},
   "number_sections": true,
   "sideBar": true,
   "skip_h1_title": false,
   "title_cell": "Table of Contents",
   "title_sidebar": "Contents",
   "toc_cell": false,
   "toc_position": {},
   "toc_section_display": true,
   "toc_window_display": true
  },
  "varInspector": {
   "cols": {
    "lenName": 16,
    "lenType": 16,
    "lenVar": 40
   },
   "kernels_config": {
    "python": {
     "delete_cmd_postfix": "",
     "delete_cmd_prefix": "del ",
     "library": "var_list.py",
     "varRefreshCmd": "print(var_dic_list())"
    },
    "r": {
     "delete_cmd_postfix": ") ",
     "delete_cmd_prefix": "rm(",
     "library": "var_list.r",
     "varRefreshCmd": "cat(var_dic_list()) "
    }
   },
   "types_to_exclude": [
    "module",
    "function",
    "builtin_function_or_method",
    "instance",
    "_Feature"
   ],
   "window_display": false
  }
 },
 "nbformat": 4,
 "nbformat_minor": 2
}
